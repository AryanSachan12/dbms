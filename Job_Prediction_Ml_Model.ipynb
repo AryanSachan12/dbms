{
  "nbformat": 4,
  "nbformat_minor": 0,
  "metadata": {
    "colab": {
      "provenance": []
    },
    "kernelspec": {
      "name": "python3",
      "display_name": "Python 3"
    },
    "language_info": {
      "name": "python"
    }
  },
  "cells": [
    {
      "cell_type": "code",
      "execution_count": null,
      "metadata": {
        "colab": {
          "base_uri": "https://localhost:8080/"
        },
        "id": "Ouq9-xbq_zh4",
        "outputId": "074bcc7c-7f0a-4370-e402-562a1d584f75"
      },
      "outputs": [
        {
          "output_type": "stream",
          "name": "stdout",
          "text": [
            "Pipeline saved as model_pipeline.pkl\n"
          ]
        }
      ],
      "source": [
        "import pandas as pd\n",
        "import numpy as np\n",
        "from sklearn.model_selection import train_test_split\n",
        "from sklearn.linear_model import LogisticRegression\n",
        "from sklearn.pipeline import Pipeline\n",
        "from sklearn.compose import ColumnTransformer\n",
        "from sklearn.preprocessing import StandardScaler, OneHotEncoder\n",
        "from sklearn.impute import SimpleImputer\n",
        "import pickle\n",
        "\n",
        "\n",
        "df = pd.read_csv('/content/Job_Placement_Data.csv')\n",
        "\n",
        "X = df.drop(columns=[\"status\"])\n",
        "y = df[\"status\"].apply(lambda x: 1 if x == \"Placed\" else 0)\n",
        "\n",
        "numeric_features = [\"ssc_percentage\", \"hsc_percentage\", \"degree_percentage\", \"emp_test_percentage\", \"mba_percent\"]\n",
        "categorical_features = [\"gender\", \"ssc_board\", \"hsc_board\", \"hsc_subject\", \"undergrad_degree\", \"work_experience\", \"specialisation\"]\n",
        "\n",
        "numeric_transformer = Pipeline(steps=[\n",
        "    (\"imputer\", SimpleImputer(strategy=\"median\")),\n",
        "    (\"scaler\", StandardScaler())\n",
        "])\n",
        "\n",
        "categorical_transformer = Pipeline(steps=[\n",
        "    (\"imputer\", SimpleImputer(strategy=\"most_frequent\")),\n",
        "    (\"onehot\", OneHotEncoder(handle_unknown=\"ignore\"))\n",
        "])\n",
        "\n",
        "preprocessor = ColumnTransformer(\n",
        "    transformers=[\n",
        "        (\"num\", numeric_transformer, numeric_features),\n",
        "        (\"cat\", categorical_transformer, categorical_features)\n",
        "    ]\n",
        ")\n",
        "\n",
        "model = Pipeline(steps=[\n",
        "    (\"preprocessor\", preprocessor),\n",
        "    (\"classifier\", LogisticRegression())\n",
        "])\n",
        "\n",
        "X_train, X_test, y_train, y_test = train_test_split(X, y, test_size=0.2, random_state=42)\n",
        "\n",
        "model.fit(X_train, y_train)\n",
        "with open(\"model_pipeline.pkl\", \"wb\") as f:\n",
        "    pickle.dump(model, f)\n",
        "\n",
        "print(\"Pipeline saved as model_pipeline.pkl\")"
      ]
    },
    {
      "cell_type": "code",
      "source": [
        "new_data = pd.DataFrame({\n",
        "    \"gender\": [\"M\"],\n",
        "    \"ssc_percentage\": [70],\n",
        "    \"ssc_board\": [\"Central\"],\n",
        "    \"hsc_percentage\": [82],\n",
        "    \"hsc_board\": [\"Others\"],\n",
        "    \"hsc_subject\": [\"Science\"],\n",
        "    \"degree_percentage\": [65],\n",
        "    \"undergrad_degree\": [\"Sci&Tech\"],\n",
        "    \"work_experience\": [\"No\"],\n",
        "    \"emp_test_percentage\": [80],\n",
        "    \"specialisation\": [\"Mkt&Fin\"],\n",
        "    \"mba_percent\": [60]\n",
        "})"
      ],
      "metadata": {
        "id": "r4aohWrCBJ26"
      },
      "execution_count": null,
      "outputs": []
    },
    {
      "cell_type": "code",
      "source": [
        "with open(\"model_pipeline.pkl\", \"rb\") as f:\n",
        "    loaded_model = pickle.load(f)\n",
        "\n",
        "predictions = loaded_model.predict(new_data)\n",
        "\n",
        "placement_status = [\"Placed\" if pred == 1 else \"Not Placed\" for pred in predictions]\n",
        "print(\"Predicted Placement Status:\", placement_status)"
      ],
      "metadata": {
        "colab": {
          "base_uri": "https://localhost:8080/"
        },
        "id": "A6_JmJx1BAO5",
        "outputId": "242871a4-c775-4473-ba56-c41eb6c9b20b"
      },
      "execution_count": null,
      "outputs": [
        {
          "output_type": "stream",
          "name": "stdout",
          "text": [
            "Predicted Placement Status: ['Placed']\n"
          ]
        }
      ]
    },
    {
      "cell_type": "code",
      "source": [],
      "metadata": {
        "id": "TvtUMV9GBQ-a"
      },
      "execution_count": null,
      "outputs": []
    }
  ]
}